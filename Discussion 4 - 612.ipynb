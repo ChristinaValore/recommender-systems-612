{
 "cells": [
  {
   "cell_type": "markdown",
   "metadata": {},
   "source": [
    "## Discussion 4: Mitigating the Harm of Recommender Systems\n",
    "### Christina Valore\n",
    "\n",
    "Read one or more of the articles below and consider how to counter the radicalizing effects of recommender systems or ways to prevent algorithmic discrimination.\n",
    "\n",
    "\n",
    "After reading YouTube, the great radicalizer - I can understand from personal experience how fast content can get out of control. Specifically with YouTube, it is the more extreme videos that generate the most views/clicks/comments and so more money for both YouTube and the creators. YouTube creators are constantly trying to create the next viral video by using misleading (clickbait) or very shocking titles. It is videos like those that will receive the most attention and so will be continued to be recommended by YouTube - regardless of how extreme they may be. \n",
    "\n",
    "YouTube has made efforts to change the alogrithm for videos that are considered fakes news as to not push this videos to be recommended even if they have a lot of views. To counter these extreme videos, I would probably put the power back into the hands of the user, allowing them to say what videos may or may not be considered good reccomendations on some rating scale. Perhaps a scale of 1-5, where 5 is great recommendation and 1 is something that may be seen as borderline offensive. \n",
    "\n",
    "Additionally YouTube could allow users to say individually on each video if this video was relevant to their interests or allow the user to say they would not like to see content like this in the future. I would imagine YouTube could also build some sort of sensoring algorithm that is setup by the user. For example I am a vegan and I love to watch happy videos about animals being adopted or even just funny videos of animal doing silly things. However, eventually I am recommended videos that show animal abuse, videos like those from PETA. I find videos like that unappealing and even offensive. These are the types of videos I should never be recommended, so if there was a way for YouTube to allow me to build out a censor such that I could remove any PETA content or videos that have the words \"animal and \"abuse\" then the recommended videos for me could be that much more relevant. "
   ]
  }
 ],
 "metadata": {
  "kernelspec": {
   "display_name": "Python 3",
   "language": "python",
   "name": "python3"
  },
  "language_info": {
   "codemirror_mode": {
    "name": "ipython",
    "version": 3
   },
   "file_extension": ".py",
   "mimetype": "text/x-python",
   "name": "python",
   "nbconvert_exporter": "python",
   "pygments_lexer": "ipython3",
   "version": "3.7.3"
  }
 },
 "nbformat": 4,
 "nbformat_minor": 2
}
