{
 "cells": [
  {
   "cell_type": "markdown",
   "metadata": {},
   "source": [
    "## Christina Valore\n",
    "### Data612\n",
    "### Discussion: Music Recommendations at Scale with Spark - Christopher Johnson (Spotify)\n",
    "\n",
    "\n",
    "For this discussion item, please watch the following talk and summarize what you found to be the most important or interesting points. The first half will cover some of the mathematical techniques covered in this unit's reading and the second half some of the data management challenges in an industrial-scale recommendation system.\n",
    "\n",
    "What will always be interesting to be is how linear algebra is used to give us recommendations for almost any service we use today. As an applied math undergrad student, I can defintely appreciate and understand how the recommender system works from a high level. \n",
    "\n",
    "I also thought it was interesting that using ALS or alternating least squares was a solution to scalability when it comes to large amounts of data. Seeing the difference in processing time for Hadoop vs. Spark, was also eye opening as Spotify has grown so rapidly that Hadoop no longer was meeting their business requirements. \n",
    "\n",
    "I liked how Chris also mentioned the idea of shuffliong data around and how that was a no-no as an expert mostly because it was ineffient and time consuming. As an up and coming data scientist sometimes these types of inefficience are acceptable to us as long as the program runs, however seeing a professional say it should work better and that was his focus to make it better - gave me a different insight on how data scientists are trying to solve various kinds of business problems. \n",
    "\n",
    "Finally, in his last statements that although Spark is a better solution, Spotify is still using Hadoop as the amount of data they have is ovewrwhelming. It is interesting that matrix computation becomes quite tricky as the dataset grows - I imagine the computation time can become very lenthy. I wonder what ways Spotify will customize Spark for their business needs. \n",
    "\n"
   ]
  }
 ],
 "metadata": {
  "kernelspec": {
   "display_name": "Python 3",
   "language": "python",
   "name": "python3"
  },
  "language_info": {
   "codemirror_mode": {
    "name": "ipython",
    "version": 3
   },
   "file_extension": ".py",
   "mimetype": "text/x-python",
   "name": "python",
   "nbconvert_exporter": "python",
   "pygments_lexer": "ipython3",
   "version": "3.7.3"
  }
 },
 "nbformat": 4,
 "nbformat_minor": 2
}
