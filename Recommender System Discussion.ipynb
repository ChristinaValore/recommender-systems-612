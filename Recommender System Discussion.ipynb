{
 "cells": [
  {
   "cell_type": "markdown",
   "metadata": {},
   "source": [
    "## Christina Valore\n",
    "### Data 612\n",
    "### June 13, 2019\n",
    "\n",
    "Now that we have covered basic techniques for recommender systems, choose one commercial recommender and describe how you think it works (content-based, collaborative filtering, etc). Does the technique deliver a good experience or are the recommendations off-target?\n",
    "\n",
    "You may also choose one of the three non-personalized recommenders (below) we went over in class and describe the technique and which of the three you prefer to use.\n",
    "\n",
    "1. Metacritic:  How We Create the Metascore Magic\n",
    "2. Rotten Tomatoes: About Rotten Tomatoes\n",
    "3. IMDB: FAQ for IMDb Ratings\n",
    "\n",
    "Attacks on Recommender System\n",
    "\n",
    "Read the article below and consider how to handle attacks on recommender systems. Can you think of a similar example where a collective effort to alter the workings of content recommendations have been successful? How would you design a system to prevent this kind of abuse?\n",
    "\n",
    "Travis M. Andrews, The Washington Post (2017): Wisdom of the crowd? IMDb users gang up on Christian Bale’s new movie before it even opens.\n",
    "\n",
    "## YouTube Recommender System\n",
    "\n",
    "As an avid YouTube community member, I often use YouTube about 4x a week. I love watching travel, beauty and life style vlogs! \n",
    "\n",
    "From experience, it looks like YT is reommending videos based on my past history and what other users who have watched similar videos are also watching, which would be considered collaborative filtering. I do believe they take the ratings into consideration also and watch time as I could watch something for a few seconds click off and then watch something for minutes, which would indicate my interest levels and so YT wouldn't reccomend similar videos I watched for only a few seconds as that would be inaccurate predictions. \n",
    "\n",
    "I would say the techniques are accurate as it is so easy to fall into a YT hole where you watch videos endlessly based on what they are recommending next. I would say most of the recommendations are based off of what I am currently watching or watched prior to that video. For example if the first video of the day I watch is a beauty YouTuber then the recommended videos are more videos from that YouTuber and one or two recommendations with similar titles or subjects. \n",
    "\n",
    "## Attacks on Recommender Systems\n",
    "\n",
    "Sticking with YouTube, they experience a phenomenon known as clickbait which essentially means video thumbnails and titles that have very little to do with the content inside the video. YT has done some prevention work including aut-generating thumbnails instead of letting creeators choose their own. If I had to prevent clickbait, I would say one of the first things I would do is check that the title and transcript in the video are closely related with some type of natural language processing. I know it is done with emails in regard to checking how 'spammy' an email can be based on thing like subject line and content. I think something similar can be done for videos to measure the content against the subject and thumbnail to decide if that video maybe clickbait. \n"
   ]
  }
 ],
 "metadata": {
  "kernelspec": {
   "display_name": "Python 3",
   "language": "python",
   "name": "python3"
  },
  "language_info": {
   "codemirror_mode": {
    "name": "ipython",
    "version": 3
   },
   "file_extension": ".py",
   "mimetype": "text/x-python",
   "name": "python",
   "nbconvert_exporter": "python",
   "pygments_lexer": "ipython3",
   "version": "3.7.3"
  }
 },
 "nbformat": 4,
 "nbformat_minor": 2
}
